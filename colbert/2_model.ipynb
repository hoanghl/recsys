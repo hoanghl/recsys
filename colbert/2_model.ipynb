{
 "cells": [
  {
   "cell_type": "code",
   "execution_count": 1,
   "metadata": {},
   "outputs": [
    {
     "name": "stdout",
     "output_type": "stream",
     "text": [
      "/Users/hoangle/Projects/recsys\n"
     ]
    }
   ],
   "source": [
    "%cd ../"
   ]
  },
  {
   "cell_type": "code",
   "execution_count": null,
   "metadata": {},
   "outputs": [],
   "source": [
    "import polars as pl\n",
    "from transformers import AutoTokenizer\n",
    "from transformers import BertModel\n",
    "from torch import nn\n",
    "import torch\n",
    "import lightning as L\n",
    "from torch.utils.data import DataLoader, Dataset\n",
    "from torch.optim import AdamW\n",
    "from torch.nn import Module\n",
    "from torch import Tensor\n",
    "from polars import DataFrame\n",
    "from loguru import logger\n",
    "from lightning.pytorch.callbacks import RichProgressBar, ModelCheckpoint\n",
    "from lightning.pytorch.loggers import TensorBoardLogger"
   ]
  },
  {
   "cell_type": "code",
   "execution_count": null,
   "metadata": {},
   "outputs": [],
   "source": [
    "MODEL_NAME = 'bert-base-cased'\n",
    "Nq = 32"
   ]
  },
  {
   "cell_type": "markdown",
   "metadata": {},
   "source": [
    "# Load raw data and process"
   ]
  },
  {
   "cell_type": "code",
   "execution_count": 3,
   "metadata": {},
   "outputs": [
    {
     "data": {
      "text/html": [
       "<div><style>\n",
       ".dataframe > thead > tr,\n",
       ".dataframe > tbody > tr {\n",
       "  text-align: right;\n",
       "  white-space: pre-wrap;\n",
       "}\n",
       "</style>\n",
       "<small>shape: (5, 3)</small><table border=\"1\" class=\"dataframe\"><thead><tr><th>_id</th><th>text</th><th>metadata</th></tr><tr><td>str</td><td>str</td><td>struct[2]</td></tr></thead><tbody><tr><td>&quot;5ab6d31155429954757d3384&quot;</td><td>&quot;What country of origin does Ho…</td><td>{&quot;American&quot;,[[&quot;House of Cosbys&quot;, &quot;0&quot;], [&quot;Bill Cosby&quot;, &quot;0&quot;]]}</td></tr><tr><td>&quot;5ac0d92f554299012d1db645&quot;</td><td>&quot;How many fountains where prese…</td><td>{&quot;1,200 musical water fountains&quot;,[[&quot;Steve Davison&quot;, &quot;0&quot;], [&quot;Steve Davison&quot;, &quot;1&quot;], … [&quot;World of Color&quot;, &quot;2&quot;]]}</td></tr><tr><td>&quot;5abd01335542993a06baf9fc&quot;</td><td>&quot;Chris Larceny directed the mus…</td><td>{&quot;the Fugees&quot;,[[&quot;Chris Larceny&quot;, &quot;3&quot;], [&quot;Wyclef Jean&quot;, &quot;0&quot;], [&quot;Wyclef Jean&quot;, &quot;2&quot;]]}</td></tr><tr><td>&quot;5abff8c95542994516f4555c&quot;</td><td>&quot;The person where local traditi…</td><td>{&quot;the Iroquois Confederacy&quot;,[[&quot;Cross Lake&quot;, &quot;1&quot;], [&quot;Hiawatha&quot;, &quot;0&quot;]]}</td></tr><tr><td>&quot;5adec8ad55429975fa854f8f&quot;</td><td>&quot;The actor who played Carl Swee…</td><td>{&quot;Denise DeClue&quot;,[[&quot;About Last Night (1986 film)&quot;, &quot;1&quot;], [&quot;Tim Kazurinsky&quot;, &quot;0&quot;]]}</td></tr></tbody></table></div>"
      ],
      "text/plain": [
       "shape: (5, 3)\n",
       "┌──────────────────────────┬─────────────────────────────────┬─────────────────────────────────┐\n",
       "│ _id                      ┆ text                            ┆ metadata                        │\n",
       "│ ---                      ┆ ---                             ┆ ---                             │\n",
       "│ str                      ┆ str                             ┆ struct[2]                       │\n",
       "╞══════════════════════════╪═════════════════════════════════╪═════════════════════════════════╡\n",
       "│ 5ab6d31155429954757d3384 ┆ What country of origin does Ho… ┆ {\"American\",[[\"House of Cosbys… │\n",
       "│ 5ac0d92f554299012d1db645 ┆ How many fountains where prese… ┆ {\"1,200 musical water fountain… │\n",
       "│ 5abd01335542993a06baf9fc ┆ Chris Larceny directed the mus… ┆ {\"the Fugees\",[[\"Chris Larceny… │\n",
       "│ 5abff8c95542994516f4555c ┆ The person where local traditi… ┆ {\"the Iroquois Confederacy\",[[… │\n",
       "│ 5adec8ad55429975fa854f8f ┆ The actor who played Carl Swee… ┆ {\"Denise DeClue\",[[\"About Last… │\n",
       "└──────────────────────────┴─────────────────────────────────┴─────────────────────────────────┘"
      ]
     },
     "execution_count": 3,
     "metadata": {},
     "output_type": "execute_result"
    }
   ],
   "source": [
    "queries = pl.read_ndjson(\"data/raw/hotpotqa/queries.jsonl\")\n",
    "queries.head()"
   ]
  },
  {
   "cell_type": "code",
   "execution_count": 4,
   "metadata": {},
   "outputs": [
    {
     "data": {
      "text/html": [
       "<div><style>\n",
       ".dataframe > thead > tr,\n",
       ".dataframe > tbody > tr {\n",
       "  text-align: right;\n",
       "  white-space: pre-wrap;\n",
       "}\n",
       "</style>\n",
       "<small>shape: (5, 3)</small><table border=\"1\" class=\"dataframe\"><thead><tr><th>_id</th><th>text</th><th>metadata</th></tr><tr><td>str</td><td>str</td><td>struct[2]</td></tr></thead><tbody><tr><td>&quot;5ab6d31155429954757d3384&quot;</td><td>&quot;[CLS] [Q] What country of orig…</td><td>{&quot;American&quot;,[[&quot;House of Cosbys&quot;, &quot;0&quot;], [&quot;Bill Cosby&quot;, &quot;0&quot;]]}</td></tr><tr><td>&quot;5ac0d92f554299012d1db645&quot;</td><td>&quot;[CLS] [Q] How many fountains w…</td><td>{&quot;1,200 musical water fountains&quot;,[[&quot;Steve Davison&quot;, &quot;0&quot;], [&quot;Steve Davison&quot;, &quot;1&quot;], … [&quot;World of Color&quot;, &quot;2&quot;]]}</td></tr><tr><td>&quot;5abd01335542993a06baf9fc&quot;</td><td>&quot;[CLS] [Q] Chris Larceny direct…</td><td>{&quot;the Fugees&quot;,[[&quot;Chris Larceny&quot;, &quot;3&quot;], [&quot;Wyclef Jean&quot;, &quot;0&quot;], [&quot;Wyclef Jean&quot;, &quot;2&quot;]]}</td></tr><tr><td>&quot;5abff8c95542994516f4555c&quot;</td><td>&quot;[CLS] [Q] The person where loc…</td><td>{&quot;the Iroquois Confederacy&quot;,[[&quot;Cross Lake&quot;, &quot;1&quot;], [&quot;Hiawatha&quot;, &quot;0&quot;]]}</td></tr><tr><td>&quot;5adec8ad55429975fa854f8f&quot;</td><td>&quot;[CLS] [Q] The actor who played…</td><td>{&quot;Denise DeClue&quot;,[[&quot;About Last Night (1986 film)&quot;, &quot;1&quot;], [&quot;Tim Kazurinsky&quot;, &quot;0&quot;]]}</td></tr></tbody></table></div>"
      ],
      "text/plain": [
       "shape: (5, 3)\n",
       "┌──────────────────────────┬─────────────────────────────────┬─────────────────────────────────┐\n",
       "│ _id                      ┆ text                            ┆ metadata                        │\n",
       "│ ---                      ┆ ---                             ┆ ---                             │\n",
       "│ str                      ┆ str                             ┆ struct[2]                       │\n",
       "╞══════════════════════════╪═════════════════════════════════╪═════════════════════════════════╡\n",
       "│ 5ab6d31155429954757d3384 ┆ [CLS] [Q] What country of orig… ┆ {\"American\",[[\"House of Cosbys… │\n",
       "│ 5ac0d92f554299012d1db645 ┆ [CLS] [Q] How many fountains w… ┆ {\"1,200 musical water fountain… │\n",
       "│ 5abd01335542993a06baf9fc ┆ [CLS] [Q] Chris Larceny direct… ┆ {\"the Fugees\",[[\"Chris Larceny… │\n",
       "│ 5abff8c95542994516f4555c ┆ [CLS] [Q] The person where loc… ┆ {\"the Iroquois Confederacy\",[[… │\n",
       "│ 5adec8ad55429975fa854f8f ┆ [CLS] [Q] The actor who played… ┆ {\"Denise DeClue\",[[\"About Last… │\n",
       "└──────────────────────────┴─────────────────────────────────┴─────────────────────────────────┘"
      ]
     },
     "execution_count": 4,
     "metadata": {},
     "output_type": "execute_result"
    }
   ],
   "source": [
    "queries = (\n",
    "    queries\n",
    "    .with_columns(\n",
    "        pl.format(\"[CLS] [Q] {}\", pl.col('text')).alias('text')\n",
    "    )\n",
    ")\n",
    "\n",
    "queries.head()"
   ]
  },
  {
   "cell_type": "code",
   "execution_count": 5,
   "metadata": {},
   "outputs": [
    {
     "data": {
      "text/html": [
       "<div><style>\n",
       ".dataframe > thead > tr,\n",
       ".dataframe > tbody > tr {\n",
       "  text-align: right;\n",
       "  white-space: pre-wrap;\n",
       "}\n",
       "</style>\n",
       "<small>shape: (5, 4)</small><table border=\"1\" class=\"dataframe\"><thead><tr><th>_id</th><th>title</th><th>text</th><th>metadata</th></tr><tr><td>str</td><td>str</td><td>str</td><td>struct[1]</td></tr></thead><tbody><tr><td>&quot;12&quot;</td><td>&quot;Anarchism&quot;</td><td>&quot;Anarchism is a political philo…</td><td>{&quot;https://en.wikipedia.org/wiki?curid=12&quot;}</td></tr><tr><td>&quot;25&quot;</td><td>&quot;Autism&quot;</td><td>&quot;Autism is a neurodevelopmental…</td><td>{&quot;https://en.wikipedia.org/wiki?curid=25&quot;}</td></tr><tr><td>&quot;39&quot;</td><td>&quot;Albedo&quot;</td><td>&quot;Albedo ( ) is a measure for re…</td><td>{&quot;https://en.wikipedia.org/wiki?curid=39&quot;}</td></tr><tr><td>&quot;290&quot;</td><td>&quot;A&quot;</td><td>&quot;A (named , plural &quot;As&quot;, &quot;A&#x27;s&quot;,…</td><td>{&quot;https://en.wikipedia.org/wiki?curid=290&quot;}</td></tr><tr><td>&quot;303&quot;</td><td>&quot;Alabama&quot;</td><td>&quot;Alabama ( ) is a state in the …</td><td>{&quot;https://en.wikipedia.org/wiki?curid=303&quot;}</td></tr></tbody></table></div>"
      ],
      "text/plain": [
       "shape: (5, 4)\n",
       "┌─────┬───────────┬─────────────────────────────────┬─────────────────────────────────┐\n",
       "│ _id ┆ title     ┆ text                            ┆ metadata                        │\n",
       "│ --- ┆ ---       ┆ ---                             ┆ ---                             │\n",
       "│ str ┆ str       ┆ str                             ┆ struct[1]                       │\n",
       "╞═════╪═══════════╪═════════════════════════════════╪═════════════════════════════════╡\n",
       "│ 12  ┆ Anarchism ┆ Anarchism is a political philo… ┆ {\"https://en.wikipedia.org/wik… │\n",
       "│ 25  ┆ Autism    ┆ Autism is a neurodevelopmental… ┆ {\"https://en.wikipedia.org/wik… │\n",
       "│ 39  ┆ Albedo    ┆ Albedo ( ) is a measure for re… ┆ {\"https://en.wikipedia.org/wik… │\n",
       "│ 290 ┆ A         ┆ A (named , plural \"As\", \"A's\",… ┆ {\"https://en.wikipedia.org/wik… │\n",
       "│ 303 ┆ Alabama   ┆ Alabama ( ) is a state in the … ┆ {\"https://en.wikipedia.org/wik… │\n",
       "└─────┴───────────┴─────────────────────────────────┴─────────────────────────────────┘"
      ]
     },
     "execution_count": 5,
     "metadata": {},
     "output_type": "execute_result"
    }
   ],
   "source": [
    "corpus = pl.read_ndjson(\"data/raw/hotpotqa/corpus.jsonl\")\n",
    "corpus.head()"
   ]
  },
  {
   "cell_type": "code",
   "execution_count": 6,
   "metadata": {},
   "outputs": [
    {
     "data": {
      "text/html": [
       "<div><style>\n",
       ".dataframe > thead > tr,\n",
       ".dataframe > tbody > tr {\n",
       "  text-align: right;\n",
       "  white-space: pre-wrap;\n",
       "}\n",
       "</style>\n",
       "<small>shape: (5, 4)</small><table border=\"1\" class=\"dataframe\"><thead><tr><th>_id</th><th>title</th><th>text</th><th>metadata</th></tr><tr><td>str</td><td>str</td><td>str</td><td>struct[1]</td></tr></thead><tbody><tr><td>&quot;12&quot;</td><td>&quot;Anarchism&quot;</td><td>&quot;[CLS] [D] Anarchism is a polit…</td><td>{&quot;https://en.wikipedia.org/wiki?curid=12&quot;}</td></tr><tr><td>&quot;25&quot;</td><td>&quot;Autism&quot;</td><td>&quot;[CLS] [D] Autism is a neurodev…</td><td>{&quot;https://en.wikipedia.org/wiki?curid=25&quot;}</td></tr><tr><td>&quot;39&quot;</td><td>&quot;Albedo&quot;</td><td>&quot;[CLS] [D] Albedo ( ) is a meas…</td><td>{&quot;https://en.wikipedia.org/wiki?curid=39&quot;}</td></tr><tr><td>&quot;290&quot;</td><td>&quot;A&quot;</td><td>&quot;[CLS] [D] A (named , plural &quot;A…</td><td>{&quot;https://en.wikipedia.org/wiki?curid=290&quot;}</td></tr><tr><td>&quot;303&quot;</td><td>&quot;Alabama&quot;</td><td>&quot;[CLS] [D] Alabama ( ) is a sta…</td><td>{&quot;https://en.wikipedia.org/wiki?curid=303&quot;}</td></tr></tbody></table></div>"
      ],
      "text/plain": [
       "shape: (5, 4)\n",
       "┌─────┬───────────┬─────────────────────────────────┬─────────────────────────────────┐\n",
       "│ _id ┆ title     ┆ text                            ┆ metadata                        │\n",
       "│ --- ┆ ---       ┆ ---                             ┆ ---                             │\n",
       "│ str ┆ str       ┆ str                             ┆ struct[1]                       │\n",
       "╞═════╪═══════════╪═════════════════════════════════╪═════════════════════════════════╡\n",
       "│ 12  ┆ Anarchism ┆ [CLS] [D] Anarchism is a polit… ┆ {\"https://en.wikipedia.org/wik… │\n",
       "│ 25  ┆ Autism    ┆ [CLS] [D] Autism is a neurodev… ┆ {\"https://en.wikipedia.org/wik… │\n",
       "│ 39  ┆ Albedo    ┆ [CLS] [D] Albedo ( ) is a meas… ┆ {\"https://en.wikipedia.org/wik… │\n",
       "│ 290 ┆ A         ┆ [CLS] [D] A (named , plural \"A… ┆ {\"https://en.wikipedia.org/wik… │\n",
       "│ 303 ┆ Alabama   ┆ [CLS] [D] Alabama ( ) is a sta… ┆ {\"https://en.wikipedia.org/wik… │\n",
       "└─────┴───────────┴─────────────────────────────────┴─────────────────────────────────┘"
      ]
     },
     "execution_count": 6,
     "metadata": {},
     "output_type": "execute_result"
    }
   ],
   "source": [
    "corpus = (\n",
    "    corpus\n",
    "    .with_columns(\n",
    "        pl.format(\"[CLS] [D] {}\", pl.col('text')).alias('text')\n",
    "    )\n",
    ")\n",
    "\n",
    "corpus.head()"
   ]
  },
  {
   "cell_type": "markdown",
   "metadata": {},
   "source": [
    "## Tokenize"
   ]
  },
  {
   "cell_type": "code",
   "execution_count": null,
   "metadata": {},
   "outputs": [
    {
     "data": {
      "text/plain": [
       "{'[PAD]': 0,\n",
       " '[UNK]': 100,\n",
       " '[CLS]': 101,\n",
       " '[SEP]': 102,\n",
       " '[MASK]': 103,\n",
       " '[Q]': 28996,\n",
       " '[D]': 28997}"
      ]
     },
     "execution_count": 7,
     "metadata": {},
     "output_type": "execute_result"
    }
   ],
   "source": [
    "\n",
    "\n",
    "tokenizer = AutoTokenizer.from_pretrained(MODEL_NAME)\n",
    "tokenizer.add_tokens(['[Q]', '[D]'], special_tokens=False)\n",
    "tokenizer.add_special_tokens({'pad_token': tokenizer.mask_token})\n",
    "tokenizer.get_added_vocab()\n",
    "\n",
    "# TODO: HoangLe [Feb-20]: Add this to the implementation\n",
    "# model = BertModel(MODEL_NAME)\n",
    "# model.resize_token_embeddings(len(tokenizer))"
   ]
  },
  {
   "cell_type": "code",
   "execution_count": null,
   "metadata": {},
   "outputs": [
    {
     "data": {
      "text/plain": [
       "'[CLS] [Q] What country of origin does House of Cosbys and Bill Cosby have in common?'"
      ]
     },
     "execution_count": 8,
     "metadata": {},
     "output_type": "execute_result"
    }
   ],
   "source": [
    "sentence = queries['text'].to_list()[0]\n",
    "sentence"
   ]
  },
  {
   "cell_type": "code",
   "execution_count": null,
   "metadata": {},
   "outputs": [
    {
     "data": {
      "text/plain": [
       "['[CLS]',\n",
       " '[Q]',\n",
       " 'What',\n",
       " 'country',\n",
       " 'of',\n",
       " 'origin',\n",
       " 'does',\n",
       " 'House',\n",
       " 'of',\n",
       " 'Co',\n",
       " '##sby',\n",
       " '##s',\n",
       " 'and',\n",
       " 'Bill',\n",
       " 'Co',\n",
       " '##sby',\n",
       " 'have',\n",
       " 'in',\n",
       " 'common',\n",
       " '?']"
      ]
     },
     "execution_count": 12,
     "metadata": {},
     "output_type": "execute_result"
    }
   ],
   "source": [
    "queries_str = tokenizer(\n",
    "    sentence,\n",
    "    add_special_tokens=False,\n",
    "    padding_side='right',\n",
    "    max_length=Nq,\n",
    "    truncation=True\n",
    ")\n",
    "tokenizer.convert_ids_to_tokens(queries_str['input_ids'])"
   ]
  },
  {
   "cell_type": "code",
   "execution_count": null,
   "metadata": {},
   "outputs": [],
   "source": [
    "c"
   ]
  }
 ],
 "metadata": {
  "kernelspec": {
   "display_name": ".venv",
   "language": "python",
   "name": "python3"
  },
  "language_info": {
   "codemirror_mode": {
    "name": "ipython",
    "version": 3
   },
   "file_extension": ".py",
   "mimetype": "text/x-python",
   "name": "python",
   "nbconvert_exporter": "python",
   "pygments_lexer": "ipython3",
   "version": "3.11.11"
  }
 },
 "nbformat": 4,
 "nbformat_minor": 2
}
