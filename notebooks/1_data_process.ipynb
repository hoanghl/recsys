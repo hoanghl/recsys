{
 "cells": [
  {
   "cell_type": "code",
   "execution_count": null,
   "metadata": {},
   "outputs": [],
   "source": [
    "%cd ../"
   ]
  },
  {
   "cell_type": "code",
   "execution_count": 2,
   "metadata": {},
   "outputs": [],
   "source": [
    "import sys\n",
    "from pathlib import Path\n",
    "from collections import defaultdict\n",
    "\n",
    "import polars as pl\n",
    "from loguru import logger\n",
    "from polars import DataFrame"
   ]
  },
  {
   "cell_type": "code",
   "execution_count": null,
   "metadata": {},
   "outputs": [],
   "source": [
    "logger.remove()\n",
    "logger.add(sys.stderr, level=\"INFO\")"
   ]
  },
  {
   "cell_type": "markdown",
   "metadata": {},
   "source": [
    "# Read dataset"
   ]
  },
  {
   "cell_type": "code",
   "execution_count": null,
   "metadata": {},
   "outputs": [],
   "source": [
    "path = \"data/raw/ml-1m/ml-1m.inter\"\n",
    "\n",
    "interactions_raw = pl.read_csv(path, separator='\\t')\n",
    "interactions_raw.head()"
   ]
  },
  {
   "cell_type": "code",
   "execution_count": null,
   "metadata": {},
   "outputs": [],
   "source": [
    "path = \"data/raw/ml-1m/ml-1m.item\"\n",
    "\n",
    "items_raw = pl.read_csv(path, separator='\\t')\n",
    "items_raw.head()"
   ]
  },
  {
   "cell_type": "markdown",
   "metadata": {},
   "source": [
    "# Process"
   ]
  },
  {
   "cell_type": "markdown",
   "metadata": {},
   "source": [
    "## Process `interactions`"
   ]
  },
  {
   "cell_type": "code",
   "execution_count": null,
   "metadata": {},
   "outputs": [],
   "source": [
    "cols = {\n",
    "    'user_id:token': 'user_id', \n",
    "    'item_id:token': 'item_id',\n",
    "    'timestamp:float': 'timestamp'\n",
    "}\n",
    "\n",
    "inters = interactions_raw.select(cols.keys()).rename(cols)\n",
    "\n",
    "inters.head()"
   ]
  },
  {
   "cell_type": "markdown",
   "metadata": {},
   "source": [
    "### Apply `k`-core filtering"
   ]
  },
  {
   "cell_type": "code",
   "execution_count": 7,
   "metadata": {},
   "outputs": [],
   "source": [
    "class KCoreFilter:\n",
    "    def __init__(\n",
    "        self,\n",
    "        inters: DataFrame,\n",
    "        k: int = 5,\n",
    "        user_str: str = \"user_id\",\n",
    "        item_str: str = \"item_id\",\n",
    "    ):\n",
    "        self.k = k\n",
    "        self.inters = inters\n",
    "        self.user_str, self.item_str = user_str, item_str\n",
    "\n",
    "        self.adj = defaultdict(list)\n",
    "\n",
    "        self._build_graph()\n",
    "\n",
    "    def _conv_v2id(self, idx: int, is_user: bool = True) -> str:\n",
    "        v_type = \"u\" if is_user else \"i\"\n",
    "        return f\"{idx}-{v_type}\"\n",
    "\n",
    "    def _conv_id2v(self, idx: str) -> tuple:\n",
    "        v_id, v_type = idx.split(\"-\")\n",
    "        return int(v_id), v_type == \"u\"\n",
    "\n",
    "    def __getitem__(self, key: str):\n",
    "        return self.adj.get(key, None)\n",
    "\n",
    "    def _build_graph(self):\n",
    "        for row in self.inters.iter_rows(named=True):\n",
    "            v_user = self._conv_v2id(row[self.user_str])\n",
    "            v_item = self._conv_v2id(row[self.item_str], False)\n",
    "\n",
    "            self.adj[v_user].append(v_item)\n",
    "            self.adj[v_item].append(v_user)\n",
    "\n",
    "    def filter(self):\n",
    "        # Find invalid users and items\n",
    "\n",
    "        users_invalid, items_invalid = [], []\n",
    "\n",
    "        # Init\n",
    "        deg = {k: len(v) for k, v in self.adj.items()}\n",
    "\n",
    "        while True:\n",
    "            # Find vertices having degree < K\n",
    "            v_invalid = [k for k, v in deg.items() if v < self.k]\n",
    "            if not v_invalid:\n",
    "                break\n",
    "\n",
    "            # Add invalid nodes to either `users_invalid` or `items_invalid`\n",
    "            for v in v_invalid:\n",
    "                v_id, v_type = self._conv_id2v(v)\n",
    "                if v_type:  ## if vertex is user\n",
    "                    users_invalid.append(v_id)\n",
    "                else:\n",
    "                    items_invalid.append(v_id)\n",
    "\n",
    "            # Remove\n",
    "            for v in v_invalid:\n",
    "                for v_adj in self.adj[v]:\n",
    "                    self.adj[v_adj].remove(v)\n",
    "\n",
    "                del self.adj[v]\n",
    "\n",
    "            # Update `deg`\n",
    "            deg = {k: len(v) for k, v in self.adj.items()}\n",
    "\n",
    "        logger.debug(users_invalid)\n",
    "        logger.debug(items_invalid)\n",
    "\n",
    "        # Remove invalid users and items from `inters`\n",
    "        inters = self.inters.filter(\n",
    "            (~pl.col(self.user_str).is_in(users_invalid))\n",
    "            & (~pl.col(self.item_str).is_in(items_invalid))\n",
    "        )\n",
    "\n",
    "        return inters\n",
    "    \n",
    "inters = KCoreFilter(inters, k=5).filter()"
   ]
  },
  {
   "cell_type": "markdown",
   "metadata": {},
   "source": [
    "## Create negative samples"
   ]
  },
  {
   "cell_type": "code",
   "execution_count": null,
   "metadata": {},
   "outputs": [],
   "source": [
    "N_NEG_TEST = 10\n",
    "N_NEG_TRAIN = 100\n",
    "\n",
    "users = inters.select('user_id').unique()\n",
    "items = inters.select('item_id').unique()\n",
    "\n",
    "inters_negative = (\n",
    "    # List out all possible interactions (both positive and negative)\n",
    "    users\n",
    "    .join(items, how='cross')\n",
    "\n",
    "    # Keep negative interactions\n",
    "    .join(inters, on=['user_id', 'item_id'], how='anti')\n",
    "\n",
    "    # Get N negative interactions for each user\n",
    "    .with_columns(\n",
    "        pl.col('item_id').rank(method='ordinal').over('user_id').alias('rank')\n",
    "    )\n",
    "    .filter(pl.col('rank') <= N_NEG_TEST + N_NEG_TRAIN)\n",
    "    # .drop('rank')\n",
    ")\n",
    "\n",
    "inters_negative.head()"
   ]
  },
  {
   "cell_type": "markdown",
   "metadata": {},
   "source": [
    "## Process `items`"
   ]
  },
  {
   "cell_type": "code",
   "execution_count": null,
   "metadata": {},
   "outputs": [],
   "source": [
    "cols = {\n",
    "    'item_id:token': 'item_id',\n",
    "    'genre:token_seq': 'genre',\n",
    "}\n",
    "\n",
    "items = items_raw.select(cols.keys()).rename(cols)\n",
    "items.head()"
   ]
  },
  {
   "cell_type": "code",
   "execution_count": null,
   "metadata": {},
   "outputs": [],
   "source": [
    "genres = (\n",
    "    items\n",
    "    .with_columns(pl.col('genre').str.split(' '))\n",
    "    .explode('genre')\n",
    "    .select(pl.col('genre').unique())\n",
    "    .with_row_index('genre_id')\n",
    ")\n",
    "\n",
    "genres.head()"
   ]
  },
  {
   "cell_type": "code",
   "execution_count": 11,
   "metadata": {},
   "outputs": [],
   "source": [
    "items = (\n",
    "    items\n",
    "    .with_columns(pl.col('genre').str.split(' '))\n",
    "    .explode('genre')\n",
    "    .join(genres, on='genre')\n",
    "    .group_by('item_id')\n",
    "    .agg(\n",
    "        pl.concat_list('genre_id').flatten()\n",
    "    )\n",
    ")"
   ]
  },
  {
   "cell_type": "markdown",
   "metadata": {},
   "source": [
    "# Split train-val-test\n",
    "\n",
    "With **Temporal LOO**"
   ]
  },
  {
   "cell_type": "code",
   "execution_count": 12,
   "metadata": {},
   "outputs": [],
   "source": [
    "inters = (\n",
    "    inters\n",
    "    .with_columns(\n",
    "        pl.col('timestamp').rank('min', descending=True).over('user_id').alias('rank')\n",
    "    )\n",
    ")"
   ]
  },
  {
   "cell_type": "markdown",
   "metadata": {},
   "source": [
    "## Craft test split"
   ]
  },
  {
   "cell_type": "code",
   "execution_count": null,
   "metadata": {},
   "outputs": [],
   "source": [
    "inters_pos = (\n",
    "    # Get inters from positive ones\n",
    "    inters\n",
    "    .filter(pl.col('rank') == 1)\n",
    "    .with_columns(pl.lit(True).alias('is_positive'))\n",
    "    .drop('rank', 'timestamp')\n",
    ")\n",
    "\n",
    "inters_neg = (\n",
    "    inters_negative\n",
    "    .filter(pl.col('rank') <= N_NEG_TEST)\n",
    "    .with_columns(pl.lit(False).alias('is_positive'))\n",
    "    .drop('rank')\n",
    ")\n",
    "\n",
    "inters_test = (\n",
    "    pl.concat([inters_pos, inters_neg])\n",
    "    .join(items, on='item_id', how='left')\n",
    ")\n",
    "inters_test.head()"
   ]
  },
  {
   "cell_type": "markdown",
   "metadata": {},
   "source": [
    "## Craft train split"
   ]
  },
  {
   "cell_type": "code",
   "execution_count": null,
   "metadata": {},
   "outputs": [],
   "source": [
    "inters_pos = (\n",
    "    # Get inters from positive ones\n",
    "    inters\n",
    "    .filter(pl.col('rank') > 1)\n",
    "    .with_columns(pl.lit(True).alias('is_positive'))\n",
    "    .drop('rank', 'timestamp')\n",
    ")\n",
    "\n",
    "inters_neg = (\n",
    "    inters_negative\n",
    "    .filter(pl.col('rank') > N_NEG_TEST)\n",
    "    .with_columns(pl.lit(False).alias('is_positive'))\n",
    "    .drop('rank')\n",
    ")\n",
    "\n",
    "inters_train = (\n",
    "    pl.concat([inters_pos, inters_neg])\n",
    "    .join(items, on='item_id', how='left')\n",
    ")\n",
    "inters_train.head()"
   ]
  },
  {
   "cell_type": "markdown",
   "metadata": {},
   "source": [
    "# Save things"
   ]
  },
  {
   "cell_type": "code",
   "execution_count": 15,
   "metadata": {},
   "outputs": [],
   "source": [
    "path = Path(\"data/processed/ml-1m/train_temporal-loo.parquet\")\n",
    "path.parent.mkdir(exist_ok=True, parents=True)\n",
    "\n",
    "inters_train.write_parquet(path)\n",
    "\n",
    "path = Path(\"data/processed/ml-1m/test_temporal-loo.parquet\")\n",
    "inters_test.write_parquet(path)\n",
    "\n",
    "path = Path(\"data/interim/ml-1m_items.parquet\")\n",
    "path.parent.mkdir(exist_ok=True, parents=True)\n",
    "items.write_parquet(path)"
   ]
  }
 ],
 "metadata": {
  "kernelspec": {
   "display_name": ".venv",
   "language": "python",
   "name": "python3"
  },
  "language_info": {
   "codemirror_mode": {
    "name": "ipython",
    "version": 3
   },
   "file_extension": ".py",
   "mimetype": "text/x-python",
   "name": "python",
   "nbconvert_exporter": "python",
   "pygments_lexer": "ipython3",
   "version": "3.11.11"
  }
 },
 "nbformat": 4,
 "nbformat_minor": 2
}
